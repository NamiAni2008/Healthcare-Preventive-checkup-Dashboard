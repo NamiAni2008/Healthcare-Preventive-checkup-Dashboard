{
 "cells": [
  {
   "cell_type": "code",
   "execution_count": 2,
   "id": "8fcd9c62-1b01-4645-91cc-7a079bfea014",
   "metadata": {},
   "outputs": [
    {
     "name": "stdout",
     "output_type": "stream",
     "text": [
      "<class 'pandas.core.frame.DataFrame'>\n",
      "RangeIndex: 100 entries, 0 to 99\n",
      "Data columns (total 11 columns):\n",
      " #   Column         Non-Null Count  Dtype  \n",
      "---  ------         --------------  -----  \n",
      " 0   Patient_ID     100 non-null    object \n",
      " 1   Name           100 non-null    object \n",
      " 2   Age            100 non-null    int64  \n",
      " 3   Gender         100 non-null    object \n",
      " 4   City           100 non-null    object \n",
      " 5   BMI            100 non-null    float64\n",
      " 6   BloodPressure  100 non-null    object \n",
      " 7   Sugar          100 non-null    int64  \n",
      " 8   Cholesterol    100 non-null    int64  \n",
      " 9   HeartRate      100 non-null    int64  \n",
      " 10  CheckupDate    100 non-null    object \n",
      "dtypes: float64(1), int64(4), object(6)\n",
      "memory usage: 8.7+ KB\n",
      "None\n",
      "  Patient_ID    Name  Age Gender       City   BMI BloodPressure  Sugar  \\\n",
      "0       P001   Kavya   56      M      Delhi  24.7        145/70    148   \n",
      "1       P002  Vikram   53      F       Pune  34.1        114/95    101   \n",
      "2       P003   Varun   45      M  Hyderabad  19.3        110/77    133   \n",
      "3       P004   Deepa   60      F    Kolkata  19.6        122/90    103   \n",
      "4       P005   Priya   44      M  Bengaluru  21.9        121/81    152   \n",
      "\n",
      "   Cholesterol  HeartRate CheckupDate  \n",
      "0          161         92  10/29/2024  \n",
      "1          204         78    8/8/2024  \n",
      "2          264         74   8/12/2024  \n",
      "3          197         68   8/17/2024  \n",
      "4          233         90  10/28/2024  \n"
     ]
    },
    {
     "name": "stderr",
     "output_type": "stream",
     "text": [
      "<>:3: SyntaxWarning: invalid escape sequence '\\h'\n",
      "<>:3: SyntaxWarning: invalid escape sequence '\\h'\n",
      "C:\\Users\\user\\AppData\\Local\\Temp\\ipykernel_6564\\3810544137.py:3: SyntaxWarning: invalid escape sequence '\\h'\n",
      "  df = pd.read_csv(\"F:\\health_checkup.csv\")\n"
     ]
    }
   ],
   "source": [
    "import pandas as pd\n",
    "\n",
    "df = pd.read_csv(\"F:\\health_checkup.csv\")\n",
    "print(df.info())\n",
    "print(df.head())"
   ]
  },
  {
   "cell_type": "code",
   "execution_count": 3,
   "id": "36dc3492-775d-46b2-b4e4-0de38f35c0c5",
   "metadata": {},
   "outputs": [
    {
     "name": "stdout",
     "output_type": "stream",
     "text": [
      "Patient_ID       0\n",
      "Name             0\n",
      "Age              0\n",
      "Gender           0\n",
      "City             0\n",
      "BMI              0\n",
      "BloodPressure    0\n",
      "Sugar            0\n",
      "Cholesterol      0\n",
      "HeartRate        0\n",
      "CheckupDate      0\n",
      "dtype: int64\n"
     ]
    },
    {
     "name": "stderr",
     "output_type": "stream",
     "text": [
      "C:\\Users\\user\\AppData\\Local\\Temp\\ipykernel_6564\\2123553739.py:5: FutureWarning: A value is trying to be set on a copy of a DataFrame or Series through chained assignment using an inplace method.\n",
      "The behavior will change in pandas 3.0. This inplace method will never work because the intermediate object on which we are setting values always behaves as a copy.\n",
      "\n",
      "For example, when doing 'df[col].method(value, inplace=True)', try using 'df.method({col: value}, inplace=True)' or df[col] = df[col].method(value) instead, to perform the operation inplace on the original object.\n",
      "\n",
      "\n",
      "  df['BMI'].fillna(df['BMI'].median(), inplace=True)\n",
      "C:\\Users\\user\\AppData\\Local\\Temp\\ipykernel_6564\\2123553739.py:6: FutureWarning: A value is trying to be set on a copy of a DataFrame or Series through chained assignment using an inplace method.\n",
      "The behavior will change in pandas 3.0. This inplace method will never work because the intermediate object on which we are setting values always behaves as a copy.\n",
      "\n",
      "For example, when doing 'df[col].method(value, inplace=True)', try using 'df.method({col: value}, inplace=True)' or df[col] = df[col].method(value) instead, to perform the operation inplace on the original object.\n",
      "\n",
      "\n",
      "  df['Sugar'].fillna(df['Sugar'].mean(), inplace=True)\n"
     ]
    }
   ],
   "source": [
    "# Check missing values\n",
    "print(df.isnull().sum())\n",
    "\n",
    "# Option 1: Fill with median or mean\n",
    "df['BMI'].fillna(df['BMI'].median(), inplace=True)\n",
    "df['Sugar'].fillna(df['Sugar'].mean(), inplace=True)\n",
    "\n",
    "# Option 2: Drop rows with too many missing values\n",
    "df.dropna(subset=['BMI', 'Sugar', 'Cholesterol'], inplace=True)"
   ]
  },
  {
   "cell_type": "code",
   "execution_count": 4,
   "id": "8551236d-1c3a-4d44-8642-c55643903b7b",
   "metadata": {},
   "outputs": [],
   "source": [
    "# Split BP into Systolic and Diastolic\n",
    "df[['BP_Systolic', 'BP_Diastolic']] = df['BloodPressure'].str.split('/', expand=True)\n",
    "df['BP_Systolic'] = df['BP_Systolic'].astype(int)\n",
    "df['BP_Diastolic'] = df['BP_Diastolic'].astype(int)\n",
    "\n",
    "# Drop old column if not needed\n",
    "df.drop('BloodPressure', axis=1, inplace=True)"
   ]
  },
  {
   "cell_type": "code",
   "execution_count": 5,
   "id": "10d957d9-bab1-4543-978e-d26d4ea0e7e5",
   "metadata": {},
   "outputs": [],
   "source": [
    "# Filter out unrealistic values\n",
    "df = df[(df['BMI'] >= 15) & (df['BMI'] <= 40)]\n",
    "df = df[(df['Sugar'] >= 60) & (df['Sugar'] <= 250)]\n",
    "df = df[(df['Cholesterol'] >= 100) & (df['Cholesterol'] <= 300)]"
   ]
  },
  {
   "cell_type": "code",
   "execution_count": 6,
   "id": "7b04f7fb-395d-4314-b613-49be291b6246",
   "metadata": {},
   "outputs": [],
   "source": [
    "df['CheckupDate'] = pd.to_datetime(df['CheckupDate'])"
   ]
  },
  {
   "cell_type": "code",
   "execution_count": 7,
   "id": "07489d56-4d1c-472a-914f-a307a9360160",
   "metadata": {},
   "outputs": [],
   "source": [
    "df.to_csv(\"health_checkup_cleaned.csv\", index=False)"
   ]
  },
  {
   "cell_type": "code",
   "execution_count": 8,
   "id": "648a9d66-250c-41c4-94c0-70c4943fdae1",
   "metadata": {},
   "outputs": [],
   "source": [
    "def risk(row):\n",
    "    if row['BMI'] > 30 or row['Sugar'] > 140 or row['Cholesterol'] > 220:\n",
    "        return \"High\"\n",
    "    else:\n",
    "        return \"Normal\"\n",
    "\n",
    "df['RiskCategory'] = df.apply(risk, axis=1)"
   ]
  },
  {
   "cell_type": "code",
   "execution_count": 9,
   "id": "89635af5-6e11-4583-82c0-0990738720e0",
   "metadata": {},
   "outputs": [
    {
     "data": {
      "text/html": [
       "<div>\n",
       "<style scoped>\n",
       "    .dataframe tbody tr th:only-of-type {\n",
       "        vertical-align: middle;\n",
       "    }\n",
       "\n",
       "    .dataframe tbody tr th {\n",
       "        vertical-align: top;\n",
       "    }\n",
       "\n",
       "    .dataframe thead th {\n",
       "        text-align: right;\n",
       "    }\n",
       "</style>\n",
       "<table border=\"1\" class=\"dataframe\">\n",
       "  <thead>\n",
       "    <tr style=\"text-align: right;\">\n",
       "      <th></th>\n",
       "      <th>Patient_ID</th>\n",
       "      <th>Name</th>\n",
       "      <th>Age</th>\n",
       "      <th>Gender</th>\n",
       "      <th>City</th>\n",
       "      <th>BMI</th>\n",
       "      <th>Sugar</th>\n",
       "      <th>Cholesterol</th>\n",
       "      <th>HeartRate</th>\n",
       "      <th>CheckupDate</th>\n",
       "      <th>BP_Systolic</th>\n",
       "      <th>BP_Diastolic</th>\n",
       "      <th>RiskCategory</th>\n",
       "    </tr>\n",
       "  </thead>\n",
       "  <tbody>\n",
       "    <tr>\n",
       "      <th>0</th>\n",
       "      <td>P001</td>\n",
       "      <td>Kavya</td>\n",
       "      <td>56</td>\n",
       "      <td>M</td>\n",
       "      <td>Delhi</td>\n",
       "      <td>24.7</td>\n",
       "      <td>148</td>\n",
       "      <td>161</td>\n",
       "      <td>92</td>\n",
       "      <td>2024-10-29</td>\n",
       "      <td>145</td>\n",
       "      <td>70</td>\n",
       "      <td>High</td>\n",
       "    </tr>\n",
       "    <tr>\n",
       "      <th>1</th>\n",
       "      <td>P002</td>\n",
       "      <td>Vikram</td>\n",
       "      <td>53</td>\n",
       "      <td>F</td>\n",
       "      <td>Pune</td>\n",
       "      <td>34.1</td>\n",
       "      <td>101</td>\n",
       "      <td>204</td>\n",
       "      <td>78</td>\n",
       "      <td>2024-08-08</td>\n",
       "      <td>114</td>\n",
       "      <td>95</td>\n",
       "      <td>High</td>\n",
       "    </tr>\n",
       "    <tr>\n",
       "      <th>2</th>\n",
       "      <td>P003</td>\n",
       "      <td>Varun</td>\n",
       "      <td>45</td>\n",
       "      <td>M</td>\n",
       "      <td>Hyderabad</td>\n",
       "      <td>19.3</td>\n",
       "      <td>133</td>\n",
       "      <td>264</td>\n",
       "      <td>74</td>\n",
       "      <td>2024-08-12</td>\n",
       "      <td>110</td>\n",
       "      <td>77</td>\n",
       "      <td>High</td>\n",
       "    </tr>\n",
       "    <tr>\n",
       "      <th>3</th>\n",
       "      <td>P004</td>\n",
       "      <td>Deepa</td>\n",
       "      <td>60</td>\n",
       "      <td>F</td>\n",
       "      <td>Kolkata</td>\n",
       "      <td>19.6</td>\n",
       "      <td>103</td>\n",
       "      <td>197</td>\n",
       "      <td>68</td>\n",
       "      <td>2024-08-17</td>\n",
       "      <td>122</td>\n",
       "      <td>90</td>\n",
       "      <td>Normal</td>\n",
       "    </tr>\n",
       "    <tr>\n",
       "      <th>4</th>\n",
       "      <td>P005</td>\n",
       "      <td>Priya</td>\n",
       "      <td>44</td>\n",
       "      <td>M</td>\n",
       "      <td>Bengaluru</td>\n",
       "      <td>21.9</td>\n",
       "      <td>152</td>\n",
       "      <td>233</td>\n",
       "      <td>90</td>\n",
       "      <td>2024-10-28</td>\n",
       "      <td>121</td>\n",
       "      <td>81</td>\n",
       "      <td>High</td>\n",
       "    </tr>\n",
       "  </tbody>\n",
       "</table>\n",
       "</div>"
      ],
      "text/plain": [
       "  Patient_ID    Name  Age Gender       City   BMI  Sugar  Cholesterol  \\\n",
       "0       P001   Kavya   56      M      Delhi  24.7    148          161   \n",
       "1       P002  Vikram   53      F       Pune  34.1    101          204   \n",
       "2       P003   Varun   45      M  Hyderabad  19.3    133          264   \n",
       "3       P004   Deepa   60      F    Kolkata  19.6    103          197   \n",
       "4       P005   Priya   44      M  Bengaluru  21.9    152          233   \n",
       "\n",
       "   HeartRate CheckupDate  BP_Systolic  BP_Diastolic RiskCategory  \n",
       "0         92  2024-10-29          145            70         High  \n",
       "1         78  2024-08-08          114            95         High  \n",
       "2         74  2024-08-12          110            77         High  \n",
       "3         68  2024-08-17          122            90       Normal  \n",
       "4         90  2024-10-28          121            81         High  "
      ]
     },
     "execution_count": 9,
     "metadata": {},
     "output_type": "execute_result"
    }
   ],
   "source": [
    "df.head()"
   ]
  },
  {
   "cell_type": "code",
   "execution_count": 10,
   "id": "ca694826-6c7e-4c2d-9836-ccdf98e58bf1",
   "metadata": {},
   "outputs": [
    {
     "name": "stdout",
     "output_type": "stream",
     "text": [
      "<class 'pandas.core.frame.DataFrame'>\n",
      "RangeIndex: 100 entries, 0 to 99\n",
      "Data columns (total 13 columns):\n",
      " #   Column        Non-Null Count  Dtype         \n",
      "---  ------        --------------  -----         \n",
      " 0   Patient_ID    100 non-null    object        \n",
      " 1   Name          100 non-null    object        \n",
      " 2   Age           100 non-null    int64         \n",
      " 3   Gender        100 non-null    object        \n",
      " 4   City          100 non-null    object        \n",
      " 5   BMI           100 non-null    float64       \n",
      " 6   Sugar         100 non-null    int64         \n",
      " 7   Cholesterol   100 non-null    int64         \n",
      " 8   HeartRate     100 non-null    int64         \n",
      " 9   CheckupDate   100 non-null    datetime64[ns]\n",
      " 10  BP_Systolic   100 non-null    int32         \n",
      " 11  BP_Diastolic  100 non-null    int32         \n",
      " 12  RiskCategory  100 non-null    object        \n",
      "dtypes: datetime64[ns](1), float64(1), int32(2), int64(4), object(5)\n",
      "memory usage: 9.5+ KB\n"
     ]
    }
   ],
   "source": [
    "df.info()"
   ]
  },
  {
   "cell_type": "code",
   "execution_count": null,
   "id": "9165bc8e-959a-4d2f-905c-4e7463dc9654",
   "metadata": {},
   "outputs": [],
   "source": []
  }
 ],
 "metadata": {
  "kernelspec": {
   "display_name": "Python [conda env:base] *",
   "language": "python",
   "name": "conda-base-py"
  },
  "language_info": {
   "codemirror_mode": {
    "name": "ipython",
    "version": 3
   },
   "file_extension": ".py",
   "mimetype": "text/x-python",
   "name": "python",
   "nbconvert_exporter": "python",
   "pygments_lexer": "ipython3",
   "version": "3.12.7"
  }
 },
 "nbformat": 4,
 "nbformat_minor": 5
}
